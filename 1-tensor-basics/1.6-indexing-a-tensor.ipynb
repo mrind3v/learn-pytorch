{
 "cells": [
  {
   "cell_type": "code",
   "execution_count": null,
   "id": "4d32deb9",
   "metadata": {},
   "outputs": [],
   "source": [
    "import torch "
   ]
  },
  {
   "cell_type": "code",
   "execution_count": null,
   "id": "253f388f",
   "metadata": {},
   "outputs": [
    {
     "name": "stdout",
     "output_type": "stream",
     "text": [
      "tensor([[[1, 2, 3],\n",
      "         [4, 5, 6],\n",
      "         [7, 8, 9]]])\n"
     ]
    }
   ],
   "source": [
    "\n",
    "x = torch.arange(1,10).reshape(1,3,3)\n",
    "print(x); # is a 3D tensor\n"
   ]
  },
  {
   "cell_type": "code",
   "execution_count": null,
   "id": "fb9575f1",
   "metadata": {},
   "outputs": [
    {
     "name": "stdout",
     "output_type": "stream",
     "text": [
      "tensor([[1, 2, 3],\n",
      "        [4, 5, 6],\n",
      "        [7, 8, 9]])\n",
      "tensor([1, 2, 3])\n",
      "tensor(1)\n"
     ]
    }
   ],
   "source": [
    "# print the 0th element of the 0th dimension (dim=0) (outermost bracket)\n",
    "print(x[0]) # is a 2D tensor of shape (3,3)\n",
    "\n",
    "# print the 0th element of the 1st dimension (dim=1)\n",
    "print(x[0][0]) # is a 1D tensor of shape(3)\n",
    "\n",
    "# print the 0th element of the 2nd dimension (dim=2) \n",
    "print(x[0][0][0]) # is a scaler of shape(0)"
   ]
  },
  {
   "cell_type": "code",
   "execution_count": 16,
   "id": "badfd0cd",
   "metadata": {},
   "outputs": [
    {
     "name": "stdout",
     "output_type": "stream",
     "text": [
      "tensor([[[1, 2, 3],\n",
      "         [4, 5, 6],\n",
      "         [7, 8, 9]]])\n",
      "tensor([4, 5, 6])\n"
     ]
    }
   ],
   "source": [
    "# you can also access all elements in a particular dimension using \":\"\n",
    "\n",
    "# print all elements inside the 0th dimension \"1\"\n",
    "print(x[:])\n",
    "\n",
    "# print all elements of the 0th dimension but 0th index ele of 1st dimension and 1st index ele of 2nd \n",
    "# dimension\n",
    "print(x[:][0][1]) "
   ]
  }
 ],
 "metadata": {
  "kernelspec": {
   "display_name": "venv",
   "language": "python",
   "name": "python3"
  },
  "language_info": {
   "codemirror_mode": {
    "name": "ipython",
    "version": 3
   },
   "file_extension": ".py",
   "mimetype": "text/x-python",
   "name": "python",
   "nbconvert_exporter": "python",
   "pygments_lexer": "ipython3",
   "version": "3.13.3"
  }
 },
 "nbformat": 4,
 "nbformat_minor": 5
}
