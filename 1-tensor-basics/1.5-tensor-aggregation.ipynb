{
 "cells": [
  {
   "cell_type": "code",
   "execution_count": 1,
   "id": "fcd2f11c",
   "metadata": {},
   "outputs": [],
   "source": [
    "import torch"
   ]
  },
  {
   "cell_type": "code",
   "execution_count": 8,
   "id": "611f363c",
   "metadata": {},
   "outputs": [
    {
     "data": {
      "text/plain": [
       "tensor(0.5589)"
      ]
     },
     "execution_count": 8,
     "metadata": {},
     "output_type": "execute_result"
    }
   ],
   "source": [
    "# Find mean value in a tensor\n",
    "x = torch.rand(2,3,4)\n",
    "x.mean() # what is the mean\n",
    "torch.mean(x) # alternative way\n",
    "\n",
    "# sometimes you may need to change the dtype of x\n",
    "x.to(torch.float32).mean()"
   ]
  },
  {
   "cell_type": "code",
   "execution_count": 9,
   "id": "be6b567c",
   "metadata": {},
   "outputs": [
    {
     "data": {
      "text/plain": [
       "tensor(17)"
      ]
     },
     "execution_count": 9,
     "metadata": {},
     "output_type": "execute_result"
    }
   ],
   "source": [
    "# Find min and max value in a tensor\n",
    "\n",
    "# exact mean and max values\n",
    "x.min() \n",
    "x.max()\n",
    "\n",
    "# In which index does min and max occur?\n",
    "x.argmin()\n",
    "x.argmax()"
   ]
  }
 ],
 "metadata": {
  "kernelspec": {
   "display_name": "venv",
   "language": "python",
   "name": "python3"
  },
  "language_info": {
   "codemirror_mode": {
    "name": "ipython",
    "version": 3
   },
   "file_extension": ".py",
   "mimetype": "text/x-python",
   "name": "python",
   "nbconvert_exporter": "python",
   "pygments_lexer": "ipython3",
   "version": "3.13.3"
  }
 },
 "nbformat": 4,
 "nbformat_minor": 5
}
