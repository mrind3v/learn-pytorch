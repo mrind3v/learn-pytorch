{
 "cells": [
  {
   "cell_type": "code",
   "execution_count": 1,
   "id": "8904e2f4",
   "metadata": {},
   "outputs": [],
   "source": [
    "import torch"
   ]
  },
  {
   "cell_type": "markdown",
   "id": "3c354677",
   "metadata": {},
   "source": [
    "# Random Tensors\n",
    "\n",
    "random tensors are important because many a times, inputs like images are numerically encoded into tensors with random numbers. For example, an image of pixel size `224*224` is broken down into 3 images of `224*224*224`, with each of the three images being completely in red, green or blue, which will be represented by a tensor of size `(3*224*224)` -> this is a three dimensional tensor with rank 3\n",
    "\n",
    "![Alt text](https://raw.githubusercontent.com/mrdbourke/pytorch-deep-learning/main/images/00-tensor-shape-example-of-image.png)"
   ]
  },
  {
   "cell_type": "code",
   "execution_count": 3,
   "id": "942b251f",
   "metadata": {},
   "outputs": [
    {
     "name": "stdout",
     "output_type": "stream",
     "text": [
      "torch.Size([3, 224, 224])\n",
      "3\n"
     ]
    }
   ],
   "source": [
    "random_tensor = torch.rand(3,224,224) # we pass the desired shape of the tensor\n",
    "print(random_tensor.size())\n",
    "print(random_tensor.ndimension())"
   ]
  },
  {
   "cell_type": "code",
   "execution_count": 4,
   "id": "be987914",
   "metadata": {},
   "outputs": [],
   "source": [
    "# Creating tensors with all zeros and all ones\n",
    "zeros = torch.zeros(2,3,3)\n",
    "ones = torch.ones(2,3,4)"
   ]
  },
  {
   "cell_type": "code",
   "execution_count": 5,
   "id": "7e15f368",
   "metadata": {},
   "outputs": [
    {
     "data": {
      "text/plain": [
       "tensor([0, 2, 4, 6, 8])"
      ]
     },
     "execution_count": 5,
     "metadata": {},
     "output_type": "execute_result"
    }
   ],
   "source": [
    "# creating tensors out of a range of numbers\n",
    "tensor_range = torch.arange(start=0, end=10, step=2) # the end is exclusive (only start to end-1)\n",
    "tensor_range"
   ]
  }
 ],
 "metadata": {
  "kernelspec": {
   "display_name": "venv",
   "language": "python",
   "name": "python3"
  },
  "language_info": {
   "codemirror_mode": {
    "name": "ipython",
    "version": 3
   },
   "file_extension": ".py",
   "mimetype": "text/x-python",
   "name": "python",
   "nbconvert_exporter": "python",
   "pygments_lexer": "ipython3",
   "version": "3.13.3"
  }
 },
 "nbformat": 4,
 "nbformat_minor": 5
}
