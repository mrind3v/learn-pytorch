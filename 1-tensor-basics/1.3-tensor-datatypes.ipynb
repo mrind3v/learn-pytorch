{
 "cells": [
  {
   "cell_type": "code",
   "execution_count": 1,
   "id": "8a76b4cf",
   "metadata": {},
   "outputs": [],
   "source": [
    "import torch"
   ]
  },
  {
   "cell_type": "markdown",
   "id": "1c3aa94c",
   "metadata": {},
   "source": [
    "# Tensor Data-types and Important Parameters when creating them\n",
    "\n",
    "There are three main issues in deep learning computation:\n",
    "\n",
    "1. Tensors are not the right data types\n",
    "    - if you're trying to perform some operation between two tensors represented by different data-types, for example, one being float16 and the other is float32\n",
    "    - Also half precision tensors (of float16 data type) are faster in calculation than full precision tensors with dtype float32 (as 1 number is 4 bytes=32bits after decimal pt)\n",
    "2. Tensors are not in right shape\n",
    "    - You will encounter errors when trying to do matrix multiplication between matrices of two different shapes\n",
    "3. Tensors not in same device\n",
    "    - if you created a tensor with device type GPU for faster calculation and other with device type CPU and you try to do some calculation between the two, you'll encounter errors!\n",
    "\n"
   ]
  },
  {
   "cell_type": "code",
   "execution_count": null,
   "id": "0692b809",
   "metadata": {},
   "outputs": [
    {
     "name": "stdout",
     "output_type": "stream",
     "text": [
      "torch.float16\n",
      "cpu\n",
      "torch.Size([2, 3, 3])\n",
      "torch.Size([2, 3, 3])\n"
     ]
    }
   ],
   "source": [
    "float_16_tensor = torch.zeros(2, 3, 3, dtype=torch.float16, device=\"cpu\", requires_grad=False)\n",
    "# dtype: data type of our tensor\n",
    "# device: what device is my tensor on?\n",
    "# requires_grad: whether or not to track gradients with operations on this tensor?\n",
    "\n",
    "# convert data type\n",
    "float_32_tensor = float_16_tensor.to(torch.float32)\n",
    "\n",
    "# getting information about my tensor\n",
    "print(float_16_tensor.dtype)\n",
    "print(float_16_tensor.device)\n",
    "print(float_16_tensor.shape) # attribute\n",
    "print(float_16_tensor.size()) # method"
   ]
  },
  {
   "cell_type": "markdown",
   "id": "41c90440",
   "metadata": {},
   "source": [
    "To get:\n",
    "1. Tensor datatype: `your_tensor_name.dtype`\n",
    "2. Tensor device: `your_tensor_name.device`\n",
    "3. Tensor shape: `your_tensor_name.size()` or `your_tensor_name.shape`"
   ]
  },
  {
   "cell_type": "code",
   "execution_count": null,
   "id": "7015c1d2",
   "metadata": {},
   "outputs": [],
   "source": []
  }
 ],
 "metadata": {
  "kernelspec": {
   "display_name": "venv",
   "language": "python",
   "name": "python3"
  },
  "language_info": {
   "codemirror_mode": {
    "name": "ipython",
    "version": 3
   },
   "file_extension": ".py",
   "mimetype": "text/x-python",
   "name": "python",
   "nbconvert_exporter": "python",
   "pygments_lexer": "ipython3",
   "version": "3.13.3"
  }
 },
 "nbformat": 4,
 "nbformat_minor": 5
}
