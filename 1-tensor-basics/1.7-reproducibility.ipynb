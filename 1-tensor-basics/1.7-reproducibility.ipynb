{
 "cells": [
  {
   "cell_type": "markdown",
   "id": "f40196af",
   "metadata": {},
   "source": [
    "### Random Seeds and Pseudo Randomness\n",
    "\n",
    "Say you want to share the result of an experiment with your friend and your're using some function to generate random numbers in your code. You also want the experiment that will be run by your friend to use the exact same random numbers. In order to get the same set of random numbers as the original code, we set a random seed which is a fixed number that allows random numbers to be generated based on that fixed number. So the seed basically adds \"flavor\" to this randomness and enables reproducibility in your program\n",
    "\n",
    "Since we can set a seed to *deterministically* generate random numbers, the function to generate random numbers does not actually generate *true* random numbers. Hence it is sometimes called \"Pseudo Randomness\"\n",
    "\n",
    "![a good illustration to seeds](https://inside-machinelearning.com/wp-content/uploads/2023/12/example_randomseed-1024x592.jpeg)\n",
    "\n",
    "[To better understand seeds and pseudo randomness](https://stats.stackexchange.com/questions/354373/what-exactly-is-a-seed-in-a-random-number-generator)"
   ]
  },
  {
   "cell_type": "code",
   "execution_count": 2,
   "id": "efbae854",
   "metadata": {},
   "outputs": [],
   "source": [
    "import torch"
   ]
  },
  {
   "cell_type": "code",
   "execution_count": null,
   "id": "36007961",
   "metadata": {},
   "outputs": [
    {
     "name": "stdout",
     "output_type": "stream",
     "text": [
      "tensor([[[0.8823, 0.9150, 0.3829],\n",
      "         [0.9593, 0.3904, 0.6009],\n",
      "         [0.2566, 0.7936, 0.9408]]])\n"
     ]
    }
   ],
   "source": [
    "SEED=42\n",
    "\n",
    "# torch.rand() takes a generator function that sets the seed for the program\n",
    "x = torch.rand(1,3,3, generator=torch.manual_seed(SEED))\n",
    "# every time you run this cell, you'll get the same tensor even though we're using rand() to\n",
    "# generate our tensor\n",
    "print(x)"
   ]
  }
 ],
 "metadata": {
  "kernelspec": {
   "display_name": "venv",
   "language": "python",
   "name": "python3"
  },
  "language_info": {
   "codemirror_mode": {
    "name": "ipython",
    "version": 3
   },
   "file_extension": ".py",
   "mimetype": "text/x-python",
   "name": "python",
   "nbconvert_exporter": "python",
   "pygments_lexer": "ipython3",
   "version": "3.13.3"
  }
 },
 "nbformat": 4,
 "nbformat_minor": 5
}
