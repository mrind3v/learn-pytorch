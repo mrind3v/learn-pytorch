{
 "cells": [
  {
   "cell_type": "code",
   "execution_count": 1,
   "id": "eef43dcc",
   "metadata": {},
   "outputs": [],
   "source": [
    "import torch"
   ]
  },
  {
   "cell_type": "code",
   "execution_count": null,
   "id": "daa32aa5",
   "metadata": {},
   "outputs": [
    {
     "name": "stdout",
     "output_type": "stream",
     "text": [
      "tensor1 is: tensor([[[0.1709, 0.8005],\n",
      "         [0.9328, 0.1264]]])\n",
      "Addition of tensor1 and 3 is: tensor([[[3.5987, 3.5065],\n",
      "         [3.0447, 3.4821]]])\n",
      "tensor2 is tensor([[[0.7718, 0.1707],\n",
      "         [0.9349, 0.4511]]])\n",
      "Addition of tensor1 and tensor2 is: tensor([[[1.3705, 0.6772],\n",
      "         [0.9796, 0.9332]]])\n",
      "tensor([[[1.3705, 0.6772],\n",
      "         [0.9796, 0.9332]]])\n"
     ]
    }
   ],
   "source": [
    "# adding tensors to constants or other tensors \n",
    "tensor1 = torch.rand(1,2,2) \n",
    "print(f\"tensor1 is: {tensor1}\")\n",
    "print(f\"Addition of tensor1 and 3 is: {tensor1 + 3}\") \n",
    "tensor2 = torch.rand(1,2,2)\n",
    "print(f\"tensor2 is {tensor2}\")\n",
    "print(f\"Addition of tensor1 and tensor2 is: {tensor1 + tensor2}\")\n",
    "print(torch.add(tensor1,tensor2))"
   ]
  },
  {
   "cell_type": "code",
   "execution_count": 10,
   "id": "28e03df6",
   "metadata": {},
   "outputs": [
    {
     "name": "stdout",
     "output_type": "stream",
     "text": [
      "tensor1 is: tensor([[[0.2937, 0.1317, 0.6548, 0.7472],\n",
      "         [0.9010, 0.1713, 0.9218, 0.6804],\n",
      "         [0.8042, 0.3988, 0.9878, 0.9226]],\n",
      "\n",
      "        [[0.0492, 0.5925, 0.0320, 0.3182],\n",
      "         [0.5489, 0.3986, 0.7618, 0.4883],\n",
      "         [0.8719, 0.2523, 0.7609, 0.8824]]])\n",
      "Subtraction between of tensor1 and 3 is: tensor([[[-2.7063, -2.8683, -2.3452, -2.2528],\n",
      "         [-2.0990, -2.8287, -2.0782, -2.3196],\n",
      "         [-2.1958, -2.6012, -2.0122, -2.0774]],\n",
      "\n",
      "        [[-2.9508, -2.4075, -2.9680, -2.6818],\n",
      "         [-2.4511, -2.6014, -2.2382, -2.5117],\n",
      "         [-2.1281, -2.7477, -2.2391, -2.1176]]])\n",
      "tensor2 is tensor([[[0.2676, 0.9966, 0.5811, 0.3843],\n",
      "         [0.0281, 0.7074, 0.1975, 0.1958],\n",
      "         [0.5649, 0.2287, 0.5049, 0.5535]],\n",
      "\n",
      "        [[0.9755, 0.9108, 0.4719, 0.9500],\n",
      "         [0.1631, 0.5108, 0.6517, 0.3014],\n",
      "         [0.6009, 0.1044, 0.6107, 0.7513]]])\n",
      "Subtraction between tensor1 and tensor2 is: tensor([[[ 0.0261, -0.8650,  0.0737,  0.3629],\n",
      "         [ 0.8729, -0.5361,  0.7243,  0.4845],\n",
      "         [ 0.2393,  0.1701,  0.4830,  0.3691]],\n",
      "\n",
      "        [[-0.9263, -0.3184, -0.4398, -0.6318],\n",
      "         [ 0.3858, -0.1122,  0.1101,  0.1869],\n",
      "         [ 0.2711,  0.1479,  0.1502,  0.1311]]])\n",
      "tensor([[[ 0.0261, -0.8650,  0.0737,  0.3629],\n",
      "         [ 0.8729, -0.5361,  0.7243,  0.4845],\n",
      "         [ 0.2393,  0.1701,  0.4830,  0.3691]],\n",
      "\n",
      "        [[-0.9263, -0.3184, -0.4398, -0.6318],\n",
      "         [ 0.3858, -0.1122,  0.1101,  0.1869],\n",
      "         [ 0.2711,  0.1479,  0.1502,  0.1311]]])\n"
     ]
    }
   ],
   "source": [
    "# subtracting constants from tensors or other tensors\n",
    "tensor1 = torch.rand(2,3,4) \n",
    "print(f\"tensor1 is: {tensor1}\")\n",
    "print(f\"Subtraction between of tensor1 and 3 is: {tensor1 - 3}\") \n",
    "tensor2 = torch.rand(2,3,4)\n",
    "print(f\"tensor2 is {tensor2}\")\n",
    "print(f\"Subtraction between tensor1 and tensor2 is: {tensor1 - tensor2}\")\n",
    "print(torch.subtract(tensor1,tensor2))"
   ]
  },
  {
   "cell_type": "markdown",
   "id": "b38875c2",
   "metadata": {},
   "source": [
    "### Tensor Multiplication rules\n",
    "![alt text](https://jillwilliams.github.io/Multiplying-Matrices/images/img11.png)\n",
    "However, note that matrix multiplication rules is followed only for two dimensions of the two tensors being multiplied, the **third** dimension must be the same for both!"
   ]
  },
  {
   "cell_type": "code",
   "execution_count": 4,
   "id": "7bc7b584",
   "metadata": {},
   "outputs": [
    {
     "name": "stdout",
     "output_type": "stream",
     "text": [
      "torch.Size([2, 3, 4])\n",
      "tensor1 is: tensor([[[0.7364, 0.0082, 0.9002, 0.3251],\n",
      "         [0.2964, 0.5255, 0.8038, 0.3441],\n",
      "         [0.2133, 0.3947, 0.7764, 0.5862]],\n",
      "\n",
      "        [[0.6698, 0.0332, 0.3255, 0.1313],\n",
      "         [0.0241, 0.0913, 0.0993, 0.0362],\n",
      "         [0.5472, 0.0470, 0.5730, 0.3705]]])\n",
      "tensor2 is tensor([[[0.6220, 0.0306, 0.3837],\n",
      "         [0.7372, 0.0104, 0.2958],\n",
      "         [0.1611, 0.0954, 0.9617],\n",
      "         [0.4439, 0.2295, 0.4875]],\n",
      "\n",
      "        [[0.4716, 0.1344, 0.7218],\n",
      "         [0.2895, 0.3803, 0.8245],\n",
      "         [0.0865, 0.0788, 0.6868],\n",
      "         [0.9416, 0.5481, 0.6667]],\n",
      "\n",
      "        [[0.9138, 0.8403, 0.6745],\n",
      "         [0.7715, 0.7924, 0.1728],\n",
      "         [0.3390, 0.0304, 0.7020],\n",
      "         [0.5997, 0.5452, 0.7392]]])\n"
     ]
    },
    {
     "ename": "RuntimeError",
     "evalue": "The size of tensor a (2) must match the size of tensor b (3) at non-singleton dimension 0",
     "output_type": "error",
     "traceback": [
      "\u001b[31m---------------------------------------------------------------------------\u001b[39m",
      "\u001b[31mRuntimeError\u001b[39m                              Traceback (most recent call last)",
      "\u001b[36mCell\u001b[39m\u001b[36m \u001b[39m\u001b[32mIn[4]\u001b[39m\u001b[32m, line 10\u001b[39m\n\u001b[32m      8\u001b[39m \u001b[38;5;28mprint\u001b[39m(\u001b[33mf\u001b[39m\u001b[33m\"\u001b[39m\u001b[33mtensor2 is \u001b[39m\u001b[38;5;132;01m{\u001b[39;00mtensor2\u001b[38;5;132;01m}\u001b[39;00m\u001b[33m\"\u001b[39m)\n\u001b[32m      9\u001b[39m \u001b[38;5;66;03m# even torch.mm(t1, t2) works -> short for torch.matmul()\u001b[39;00m\n\u001b[32m---> \u001b[39m\u001b[32m10\u001b[39m \u001b[38;5;28mprint\u001b[39m(\u001b[33mf\u001b[39m\u001b[33m\"\u001b[39m\u001b[33mmatrix multiplication of tensor1 and tensor2 is \u001b[39m\u001b[38;5;132;01m{\u001b[39;00m\u001b[43mtorch\u001b[49m\u001b[43m.\u001b[49m\u001b[43mmatmul\u001b[49m\u001b[43m(\u001b[49m\u001b[43mtensor1\u001b[49m\u001b[43m,\u001b[49m\u001b[43mtensor2\u001b[49m\u001b[43m)\u001b[49m\u001b[38;5;132;01m}\u001b[39;00m\u001b[33m\"\u001b[39m)\n",
      "\u001b[31mRuntimeError\u001b[39m: The size of tensor a (2) must match the size of tensor b (3) at non-singleton dimension 0"
     ]
    }
   ],
   "source": [
    "# tensor multiplication follows the standard matrix multiplication rules\n",
    "# notice carefully the dimensions of tensor1 and tensor2 and the result\n",
    "# also note that the first dimension in both tensors are same, tensors must also be of the same size\n",
    "tensor1 = torch.rand(2,3,4) \n",
    "print(f\"tensor1 is: {tensor1}\")\n",
    "tensor2 = torch.rand(3,4,3) \n",
    "print(f\"tensor2 is {tensor2}\")\n",
    "# even torch.mm(t1, t2) works -> short for torch.matmul()\n",
    "print(f\"matrix multiplication of tensor1 and tensor2 is {torch.matmul(tensor1,tensor2)}\")\n"
   ]
  },
  {
   "cell_type": "code",
   "execution_count": 18,
   "id": "ac217945",
   "metadata": {},
   "outputs": [
    {
     "name": "stdout",
     "output_type": "stream",
     "text": [
      "tensor([[[0.9625, 0.9139, 0.1755, 0.9461],\n",
      "         [0.5411, 0.7292, 0.7929, 0.2978],\n",
      "         [0.9263, 0.4485, 0.0297, 0.3003]]])\n",
      "torch.Size([1, 3, 4])\n",
      "tensor([[[0.9625],\n",
      "         [0.5411],\n",
      "         [0.9263]],\n",
      "\n",
      "        [[0.9139],\n",
      "         [0.7292],\n",
      "         [0.4485]],\n",
      "\n",
      "        [[0.1755],\n",
      "         [0.7929],\n",
      "         [0.0297]],\n",
      "\n",
      "        [[0.9461],\n",
      "         [0.2978],\n",
      "         [0.3003]]])\n",
      "torch.Size([4, 3, 1])\n"
     ]
    }
   ],
   "source": [
    "# transposing tensors (to sometimes fix shape errors when doing matmul)\n",
    "tensor1 = torch.rand(1,3,4)\n",
    "print(tensor1)\n",
    "print(tensor1.shape)\n",
    "tensor1_t = tensor1.T \n",
    "print(tensor1_t)\n",
    "print(tensor1.T.shape)"
   ]
  }
 ],
 "metadata": {
  "kernelspec": {
   "display_name": "venv",
   "language": "python",
   "name": "python3"
  },
  "language_info": {
   "codemirror_mode": {
    "name": "ipython",
    "version": 3
   },
   "file_extension": ".py",
   "mimetype": "text/x-python",
   "name": "python",
   "nbconvert_exporter": "python",
   "pygments_lexer": "ipython3",
   "version": "3.13.3"
  }
 },
 "nbformat": 4,
 "nbformat_minor": 5
}
