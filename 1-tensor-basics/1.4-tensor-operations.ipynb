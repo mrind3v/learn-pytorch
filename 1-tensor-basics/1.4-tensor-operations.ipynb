{
 "cells": [
  {
   "cell_type": "code",
   "execution_count": 1,
   "id": "eef43dcc",
   "metadata": {},
   "outputs": [],
   "source": [
    "import torch"
   ]
  },
  {
   "cell_type": "code",
   "execution_count": null,
   "id": "daa32aa5",
   "metadata": {},
   "outputs": [
    {
     "name": "stdout",
     "output_type": "stream",
     "text": [
      "tensor1 is: tensor([[[0.1709, 0.8005],\n",
      "         [0.9328, 0.1264]]])\n",
      "Addition of tensor1 and 3 is: tensor([[[3.5987, 3.5065],\n",
      "         [3.0447, 3.4821]]])\n",
      "tensor2 is tensor([[[0.7718, 0.1707],\n",
      "         [0.9349, 0.4511]]])\n",
      "Addition of tensor1 and tensor2 is: tensor([[[1.3705, 0.6772],\n",
      "         [0.9796, 0.9332]]])\n",
      "tensor([[[1.3705, 0.6772],\n",
      "         [0.9796, 0.9332]]])\n"
     ]
    }
   ],
   "source": [
    "# adding tensors to constants or other tensors \n",
    "tensor1 = torch.rand(1,2,2) \n",
    "print(f\"tensor1 is: {tensor1}\")\n",
    "print(f\"Addition of tensor1 and 3 is: {tensor1 + 3}\") \n",
    "tensor2 = torch.rand(1,2,2)\n",
    "print(f\"tensor2 is {tensor2}\")\n",
    "print(f\"Addition of tensor1 and tensor2 is: {tensor1 + tensor2}\")\n",
    "print(torch.add(tensor1,tensor2))"
   ]
  },
  {
   "cell_type": "code",
   "execution_count": 10,
   "id": "28e03df6",
   "metadata": {},
   "outputs": [
    {
     "name": "stdout",
     "output_type": "stream",
     "text": [
      "tensor1 is: tensor([[[0.2937, 0.1317, 0.6548, 0.7472],\n",
      "         [0.9010, 0.1713, 0.9218, 0.6804],\n",
      "         [0.8042, 0.3988, 0.9878, 0.9226]],\n",
      "\n",
      "        [[0.0492, 0.5925, 0.0320, 0.3182],\n",
      "         [0.5489, 0.3986, 0.7618, 0.4883],\n",
      "         [0.8719, 0.2523, 0.7609, 0.8824]]])\n",
      "Subtraction between of tensor1 and 3 is: tensor([[[-2.7063, -2.8683, -2.3452, -2.2528],\n",
      "         [-2.0990, -2.8287, -2.0782, -2.3196],\n",
      "         [-2.1958, -2.6012, -2.0122, -2.0774]],\n",
      "\n",
      "        [[-2.9508, -2.4075, -2.9680, -2.6818],\n",
      "         [-2.4511, -2.6014, -2.2382, -2.5117],\n",
      "         [-2.1281, -2.7477, -2.2391, -2.1176]]])\n",
      "tensor2 is tensor([[[0.2676, 0.9966, 0.5811, 0.3843],\n",
      "         [0.0281, 0.7074, 0.1975, 0.1958],\n",
      "         [0.5649, 0.2287, 0.5049, 0.5535]],\n",
      "\n",
      "        [[0.9755, 0.9108, 0.4719, 0.9500],\n",
      "         [0.1631, 0.5108, 0.6517, 0.3014],\n",
      "         [0.6009, 0.1044, 0.6107, 0.7513]]])\n",
      "Subtraction between tensor1 and tensor2 is: tensor([[[ 0.0261, -0.8650,  0.0737,  0.3629],\n",
      "         [ 0.8729, -0.5361,  0.7243,  0.4845],\n",
      "         [ 0.2393,  0.1701,  0.4830,  0.3691]],\n",
      "\n",
      "        [[-0.9263, -0.3184, -0.4398, -0.6318],\n",
      "         [ 0.3858, -0.1122,  0.1101,  0.1869],\n",
      "         [ 0.2711,  0.1479,  0.1502,  0.1311]]])\n",
      "tensor([[[ 0.0261, -0.8650,  0.0737,  0.3629],\n",
      "         [ 0.8729, -0.5361,  0.7243,  0.4845],\n",
      "         [ 0.2393,  0.1701,  0.4830,  0.3691]],\n",
      "\n",
      "        [[-0.9263, -0.3184, -0.4398, -0.6318],\n",
      "         [ 0.3858, -0.1122,  0.1101,  0.1869],\n",
      "         [ 0.2711,  0.1479,  0.1502,  0.1311]]])\n"
     ]
    }
   ],
   "source": [
    "# subtracting constants from tensors or other tensors\n",
    "tensor1 = torch.rand(2,3,4) \n",
    "print(f\"tensor1 is: {tensor1}\")\n",
    "print(f\"Subtraction between of tensor1 and 3 is: {tensor1 - 3}\") \n",
    "tensor2 = torch.rand(2,3,4)\n",
    "print(f\"tensor2 is {tensor2}\")\n",
    "print(f\"Subtraction between tensor1 and tensor2 is: {tensor1 - tensor2}\")\n",
    "print(torch.subtract(tensor1,tensor2))"
   ]
  },
  {
   "cell_type": "code",
   "execution_count": 13,
   "id": "7bc7b584",
   "metadata": {},
   "outputs": [
    {
     "name": "stdout",
     "output_type": "stream",
     "text": [
      "tensor1 is: tensor([[[0.4844, 0.8891, 0.3319, 0.9856],\n",
      "         [0.8840, 0.5021, 0.1541, 0.5338],\n",
      "         [0.6865, 0.3639, 0.7501, 0.8854]],\n",
      "\n",
      "        [[0.4915, 0.9829, 0.1222, 0.4988],\n",
      "         [0.3346, 0.4257, 0.2743, 0.9018],\n",
      "         [0.7376, 0.2480, 0.5188, 0.1159]]])\n",
      "tensor2 is tensor([[[0.3971, 0.0545, 0.4270],\n",
      "         [0.3958, 0.4558, 0.8766],\n",
      "         [0.0379, 0.5960, 0.7923],\n",
      "         [0.5467, 0.0489, 0.1150]],\n",
      "\n",
      "        [[0.7763, 0.3516, 0.6733],\n",
      "         [0.9816, 0.7946, 0.8355],\n",
      "         [0.3202, 0.0931, 0.4687],\n",
      "         [0.6882, 0.4662, 0.1412]]])\n",
      "matrix multiplication of tensor1 and tensor2 is tensor([[[1.0957, 0.6776, 1.3624],\n",
      "         [0.8475, 0.3950, 1.0011],\n",
      "         [0.9291, 0.6936, 1.3082]],\n",
      "\n",
      "        [[1.7287, 1.1977, 1.2798],\n",
      "         [1.3861, 0.9019, 0.8369],\n",
      "         [1.0619, 0.5587, 0.9633]]])\n"
     ]
    }
   ],
   "source": [
    "# tensor multiplication follows the standard matrix multiplication rules\n",
    "# notice carefully the dimensions of tensor1 and tensor2 and the result\n",
    "tensor1 = torch.rand(2,3,4) \n",
    "print(f\"tensor1 is: {tensor1}\")\n",
    "tensor2 = torch.rand(2,4,3) \n",
    "print(f\"tensor2 is {tensor2}\")\n",
    "print(f\"matrix multiplication of tensor1 and tensor2 is {torch.matmul(tensor1,tensor2)}\")\n"
   ]
  }
 ],
 "metadata": {
  "kernelspec": {
   "display_name": "venv",
   "language": "python",
   "name": "python3"
  },
  "language_info": {
   "codemirror_mode": {
    "name": "ipython",
    "version": 3
   },
   "file_extension": ".py",
   "mimetype": "text/x-python",
   "name": "python",
   "nbconvert_exporter": "python",
   "pygments_lexer": "ipython3",
   "version": "3.13.3"
  }
 },
 "nbformat": 4,
 "nbformat_minor": 5
}
