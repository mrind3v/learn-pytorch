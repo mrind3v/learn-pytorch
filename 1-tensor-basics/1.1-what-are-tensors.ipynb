{
 "cells": [
  {
   "cell_type": "code",
   "execution_count": 2,
   "id": "f6420760",
   "metadata": {},
   "outputs": [],
   "source": [
    "import torch"
   ]
  },
  {
   "cell_type": "markdown",
   "id": "22462ebe",
   "metadata": {},
   "source": [
    "# What are tensors?\n",
    "\n",
    "You already know about vectors right? Vectors are actually a part of a more general collection of objects called Tensors. Vector is just one specific case of tensors. In fact, they are tensors of rank 1. Because a vector [1,2,3] is a single list or one dimensional\n",
    "\n",
    "similarly, matrices [[1,2,3],[4,5,6]] are tensors of rank because matrices are two dimensional or to be precise each component say 2 is represented by x and y. Or think of it this way, the matrix example here can be represented as ```1*2*3``` (```breadth*length*height```) because of its shape -> it has two non-one dimensions!\n",
    "\n",
    "![alt text](https://miro.medium.com/v2/resize:fit:931/1*zuwlMgdyhzFicx2v6UpLIw.jpeg)\n",
    "\n",
    "In a broader sense, tensors are just numerical encodings of inputs to a deep neural network"
   ]
  },
  {
   "cell_type": "code",
   "execution_count": 3,
   "id": "4b39d2c0-204e-45e4-9f37-069386262495",
   "metadata": {},
   "outputs": [
    {
     "name": "stdout",
     "output_type": "stream",
     "text": [
      "7\n",
      "torch.Size([])\n",
      "0\n"
     ]
    }
   ],
   "source": [
    "# 1. rank zero tensors (scalers)\n",
    "scaler = torch.tensor(7) \n",
    "print(scaler.item())\n",
    "print(scaler.size()) # basically the dimension (row*col)\n",
    "print(scaler.ndim)  # basically the rank"
   ]
  },
  {
   "cell_type": "code",
   "execution_count": 4,
   "id": "30bfc6ec",
   "metadata": {},
   "outputs": [
    {
     "name": "stdout",
     "output_type": "stream",
     "text": [
      "[1, 2, 3]\n",
      "torch.Size([3])\n",
      "1\n"
     ]
    }
   ],
   "source": [
    "# 2. rank 1 tensors (vectors)\n",
    "vector = torch.tensor([1,2,3])\n",
    "print(vector.tolist())\n",
    "print(vector.size())\n",
    "print(vector.ndimension())\n"
   ]
  },
  {
   "cell_type": "code",
   "execution_count": 5,
   "id": "14142c70",
   "metadata": {},
   "outputs": [
    {
     "name": "stdout",
     "output_type": "stream",
     "text": [
      "[[1, 2, 3], [7, 4, 6], [7, 8, 9]]\n",
      "torch.Size([3, 3])\n",
      "2\n"
     ]
    }
   ],
   "source": [
    "# 2. rank 2 tensors (matrices) \n",
    "matrix = torch.tensor([[1,2,3],[7,4,6],[7,8,9]])\n",
    "print(matrix.tolist())\n",
    "print(matrix.size())\n",
    "print(matrix.ndimension())"
   ]
  },
  {
   "cell_type": "markdown",
   "id": "67204c72",
   "metadata": {},
   "source": [
    "> Note: Scalers and vectors are lowercase and MATRIX and TENSORS should be in lowercase"
   ]
  }
 ],
 "metadata": {
  "kernelspec": {
   "display_name": "venv",
   "language": "python",
   "name": "python3"
  },
  "language_info": {
   "codemirror_mode": {
    "name": "ipython",
    "version": 3
   },
   "file_extension": ".py",
   "mimetype": "text/x-python",
   "name": "python",
   "nbconvert_exporter": "python",
   "pygments_lexer": "ipython3",
   "version": "3.13.3"
  }
 },
 "nbformat": 4,
 "nbformat_minor": 5
}
