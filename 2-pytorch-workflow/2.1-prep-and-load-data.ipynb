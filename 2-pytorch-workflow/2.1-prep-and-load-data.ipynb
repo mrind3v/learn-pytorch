{
 "cells": [
  {
   "cell_type": "code",
   "execution_count": 10,
   "id": "a8bdee81",
   "metadata": {},
   "outputs": [],
   "source": [
    "import torch\n",
    "import seaborn as sb\n",
    "import numpy as np\n",
    "import pandas as pd"
   ]
  },
  {
   "cell_type": "markdown",
   "id": "472b9a6f",
   "metadata": {},
   "source": [
    "### Data Preparation and Loading\n",
    "\n",
    "Machine learning is broadly done in two steps:\n",
    "1. Get data (in the form of text,image,excel sheets,video,audio,etc) and convert it into numerical encodings (into tensors).\n",
    "2. Build/Select a neural network to learn patterns in the numerical encoding\n",
    "\n",
    "> NOTE: anything in the universe that can be represented by numbers, can be fed into a machine learning model!\n",
    "\n",
    "We'll start with the first step.\n",
    "\n",
    "We'll create some data using the linear regression formula, then we'll use a model to fit to the data and predict the known weight and bias"
   ]
  },
  {
   "cell_type": "markdown",
   "id": "82072789",
   "metadata": {},
   "source": [
    "#### 1. Creating our Data"
   ]
  },
  {
   "cell_type": "code",
   "execution_count": 7,
   "id": "c3800b93",
   "metadata": {},
   "outputs": [],
   "source": [
    "weight = 0.7\n",
    "bias = 0.3\n",
    "start = 0\n",
    "end = 1\n",
    "step = 0.02\n",
    "X = torch.arange(start,end,step).unsqueeze(dim=1) \n",
    "# we added an extra dimension of size 1 the purpose of which will be cleared later.\n",
    "\n",
    "y = weight*X + bias "
   ]
  },
  {
   "cell_type": "code",
   "execution_count": null,
   "id": "cc824319",
   "metadata": {},
   "outputs": [
    {
     "data": {
      "text/plain": [
       "<Axes: xlabel='X', ylabel='y'>"
      ]
     },
     "execution_count": 13,
     "metadata": {},
     "output_type": "execute_result"
    },
    {
     "data": {
      "image/png": "[encoded data removed]",
      "text/plain": [
       "<Figure size 640x480 with 1 Axes>"
      ]
     },
     "metadata": {},
     "output_type": "display_data"
    }
   ],
   "source": [
    "# visualizing the created data \n",
    "\n",
    "# Convert tensors to numpy arrays and flatten (convert from multidimensional to 1D array)\n",
    "X_np = X.numpy().flatten()\n",
    "y_np = y.numpy().flatten()\n",
    "\n",
    "# Create a DataFrame for easier plotting\n",
    "# we pass a dictionary to Dataframe constructor where Keys X,y are cols and X_np,y_np are data in the cols\n",
    "df = pd.DataFrame({'X': X_np, 'y': y_np})\n",
    "\n",
    "# Plot using seaborn\n",
    "sb.scatterplot(data=df, x='X', y='y')"
   ]
  },
  {
   "cell_type": "markdown",
   "id": "71d32ade",
   "metadata": {},
   "source": [
    "#### 2. Splitting Data into Three Sets\n",
    "\n",
    "Before directly feeding all our data to the machine learning model, we split our data into three very important sets:\n",
    "\n",
    "1. **Training Set** - (say 70% of the data) This is the data our model uses to learn patterns in the numerical  representation of our data. It is like the course material you use to learn in your university.\n",
    "2. **Validation Set** - (15% of the data) This part of the data is used to tune the model. This is where we run some optimization algorithm to learn the weights and biases in your model. This is like a practice exam you take to identify any gaps in your knowledge so that you can improve and properly learn the concepts.\n",
    "3. **Test Set** - (15% of the data) This is used as a final test of our model, to see if it is ready for real world unseen data. It is like the final exam where you're tested whether you've gained anything out of the course or not. This is done to check if your model is able to *Generalize* (perform well on data it hasn't seen before).\n",
    "\n",
    "> NOTE: validation set is not always made. It depends on how much data you have. If you have scarcity of data, we just use the training and the test set"
   ]
  },
  {
   "cell_type": "code",
   "execution_count": 8,
   "id": "9420c06d",
   "metadata": {},
   "outputs": [
    {
     "data": {
      "text/plain": [
       "(40, 40, 10, 10)"
      ]
     },
     "execution_count": 8,
     "metadata": {},
     "output_type": "execute_result"
    }
   ],
   "source": [
    "# let's take 80% of the data as train data and 20% as test data\n",
    "\n",
    "train_split = int(0.80*len(X)) # 0.80 (a float) multiplied to len(X) (int) gives float, but indices shd be int\n",
    "X_train, y_train = X[:train_split], y[:train_split]\n",
    "X_test, y_test = X[train_split:], y[train_split:]\n",
    "len(X_train), len(y_train), len(X_test), len(y_test)"
   ]
  }
 ],
 "metadata": {
  "kernelspec": {
   "display_name": "venv",
   "language": "python",
   "name": "python3"
  },
  "language_info": {
   "codemirror_mode": {
    "name": "ipython",
    "version": 3
   },
   "file_extension": ".py",
   "mimetype": "text/x-python",
   "name": "python",
   "nbconvert_exporter": "python",
   "pygments_lexer": "ipython3",
   "version": "3.13.3"
  }
 },
 "nbformat": 4,
 "nbformat_minor": 5
}
